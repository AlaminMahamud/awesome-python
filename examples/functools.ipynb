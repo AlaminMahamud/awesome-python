{
 "cells": [
  {
   "cell_type": "code",
   "execution_count": 18,
   "metadata": {},
   "outputs": [
    {
     "name": "stdout",
     "output_type": "stream",
     "text": [
      "At Last Executed\n"
     ]
    },
    {
     "data": {
      "text/plain": [
       "CacheInfo(hits=2, misses=1, maxsize=128, currsize=1)"
      ]
     },
     "execution_count": 18,
     "metadata": {},
     "output_type": "execute_result"
    }
   ],
   "source": [
    "# higher order functions\n",
    "\n",
    "import functools\n",
    "import time\n",
    "\n",
    "\n",
    "def timer(func):\n",
    "    @functools.wraps(func)\n",
    "    def wrapper(*args, **kwargs):\n",
    "        start_time = time.time()\n",
    "        value = func(*args, **kwargs)\n",
    "        end_time = time.time()\n",
    "        print(f\"{end_time - start_time}\")\n",
    "        print(f\"{value!r}\")\n",
    "        return value\n",
    "    return wrapper\n",
    "\n",
    "\n",
    "\n",
    "@functools.lru_cache\n",
    "def expensive():\n",
    "    time.sleep(1)\n",
    "    print('At Last Executed')\n",
    "    import random\n",
    "    return ['***', '%%%', '///'][random.randint(0,2)]\n",
    "\n",
    "\n",
    "expensive()\n",
    "expensive()\n",
    "expensive()\n",
    "expensive.cache_info()"
   ]
  },
  {
   "cell_type": "code",
   "execution_count": 19,
   "metadata": {},
   "outputs": [],
   "source": [
    "def partial(func, /, *args, **kwargs):\n",
    "    def newfunc(*fargs, **fkwargs):\n",
    "        newkeywords = {**kwargs, **fkwargs}\n",
    "        return func(*args, *fargs, **newkeywords)\n",
    "    newfunc.func = func\n",
    "    newfunc.args = args\n",
    "    newfunc.keywords = keywords\n",
    "    return newfunc"
   ]
  }
 ],
 "metadata": {
  "kernelspec": {
   "display_name": "Python 3",
   "language": "python",
   "name": "python3"
  },
  "language_info": {
   "codemirror_mode": {
    "name": "ipython",
    "version": 3
   },
   "file_extension": ".py",
   "mimetype": "text/x-python",
   "name": "python",
   "nbconvert_exporter": "python",
   "pygments_lexer": "ipython3",
   "version": "3.8.0"
  }
 },
 "nbformat": 4,
 "nbformat_minor": 4
}
