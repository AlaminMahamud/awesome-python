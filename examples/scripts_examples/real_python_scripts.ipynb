{
 "cells": [
  {
   "cell_type": "code",
   "execution_count": 2,
   "metadata": {},
   "outputs": [
    {
     "name": "stdout",
     "output_type": "stream",
     "text": [
      "Finished in 0.22014951705932617 seconds\n"
     ]
    }
   ],
   "source": [
    "# execution Time\n",
    "\n",
    "import time\n",
    "import random\n",
    "\n",
    "class ExecutionTime:\n",
    "    def __init__(self):\n",
    "        self.start_time = time.time()\n",
    "        \n",
    "    def duration(self):\n",
    "        return time.time() - self.start_time\n",
    "        \n",
    "timer = ExecutionTime()\n",
    "sample_list = list()\n",
    "\n",
    "my_list = [random.randint(1, 8888888) for num in range(1, 100000) if num%2==0]\n",
    "print('Finished in {} seconds'.format(timer.duration()))"
   ]
  },
  {
   "cell_type": "code",
   "execution_count": 3,
   "metadata": {},
   "outputs": [],
   "source": [
    "# decoratorfor benchmarking\n",
    "\n",
    "if __name__ == \"__main__\":\n",
    "    all_times = list()\n",
    "\n",
    "\n",
    "def timeit(f):\n",
    "    \n",
    "    def timed(*args, **kwargs):\n",
    "        import time\n",
    "        ts = time.time()\n",
    "        result = f(*args, **kwargs)\n",
    "        te = time.time()\n",
    "        all_times.append(te-ts)\n",
    "        print(all_times)\n",
    "        print(numpy.mean(all_times))\n",
    "        return result\n",
    "    return timed\n",
    "\n"
   ]
  },
  {
   "cell_type": "code",
   "execution_count": null,
   "metadata": {},
   "outputs": [],
   "source": [
    "# basic email web crawler\n",
    "import requests\n",
    "import re\n",
    "\n",
    "\n",
    "#url = 'https://www.google.com'\n",
    "#website = requests.get(url)\n",
    "#html = website.text\n",
    "\n"
   ]
  },
  {
   "cell_type": "code",
   "execution_count": null,
   "metadata": {},
   "outputs": [],
   "source": []
  }
 ],
 "metadata": {
  "kernelspec": {
   "display_name": "Python 3",
   "language": "python",
   "name": "python3"
  },
  "language_info": {
   "codemirror_mode": {
    "name": "ipython",
    "version": 3
   },
   "file_extension": ".py",
   "mimetype": "text/x-python",
   "name": "python",
   "nbconvert_exporter": "python",
   "pygments_lexer": "ipython3",
   "version": "3.6.5"
  }
 },
 "nbformat": 4,
 "nbformat_minor": 2
}
