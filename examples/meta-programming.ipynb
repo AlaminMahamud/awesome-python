{
 "cells": [
  {
   "cell_type": "markdown",
   "metadata": {},
   "source": [
    "# Meta Programming\n",
    "\n",
    "Don't Repeat Yourself\n",
    "\n",
    "* generator\n",
    "* descriptor\n",
    "* decorator\n",
    "\n",
    "## Code \n",
    "\n",
    "* statements << functions << Class << module << package\n",
    "\n",
    "### Statements\n",
    "\n",
    "```\n",
    "statement1\n",
    "statement2\n",
    "statement3\n",
    "...\n",
    "```\n",
    "\n",
    "* Perform the actual work of your program\n",
    "* Always execute in two scopes\n",
    "    * globals -> Module Dictionary\n",
    "    * locals  -> Enclosing Function (if any)\n",
    "* exec(statements [,globals [,locals]])\n",
    "\n",
    "### Functions\n",
    "    \n",
    "* `*args`, `**kwargs`\n",
    "* Default Args\n",
    "* Keyword Args -- Python3\n",
    "    * For Deafult Arguments only use immutable values. Default Valuse set at definition time.\n",
    "* Closure - Function that returns another function?\n",
    "\n",
    "### Different Method Types\n",
    "\n",
    "* Class Variable\n",
    "* Instance Variable\n",
    "* Instance Method\n",
    "* Class Method\n",
    "* Static Method\n",
    "* Special Methods\n",
    "    * getitem, getattr\n",
    "* Inheritance\n",
    "* Dictionaries\n",
    "    * objects are layered in dictionaries\n",
    "    ```\n",
    "    class Spam:\n",
    "        def __init__(self, x, y):\n",
    "            self.x = x\n",
    "            self.y = y\n",
    "        def foo(self):\n",
    "            pass\n",
    "    >>> s = Spam(2.3)\n",
    "    >>> s.__dict__\n",
    "    {'y': 3, 'x': 2}\n",
    "    >>> Spam.__dict__['foo']\n",
    "    <function Spam.foo at 0x10069fc20>\n",
    "    ```"
   ]
  },
  {
   "cell_type": "code",
   "execution_count": 3,
   "metadata": {
    "scrolled": true
   },
   "outputs": [
    {
     "data": {
      "text/plain": [
       "mappingproxy({'__module__': '__main__',\n",
       "              '__init__': <function __main__.Spam.__init__(self, x, y)>,\n",
       "              'foo': <function __main__.Spam.foo(self)>,\n",
       "              '__dict__': <attribute '__dict__' of 'Spam' objects>,\n",
       "              '__weakref__': <attribute '__weakref__' of 'Spam' objects>,\n",
       "              '__doc__': None})"
      ]
     },
     "execution_count": 3,
     "metadata": {},
     "output_type": "execute_result"
    }
   ],
   "source": [
    "class Spam:\n",
    "    def __init__(self, x, y):\n",
    "        self.x = x\n",
    "        self.y = y\n",
    "    def foo(self):\n",
    "        pass\n",
    "\n",
    "s = Spam(2,3)\n",
    "s.__dict__\n",
    "Spam.__dict__"
   ]
  },
  {
   "cell_type": "code",
   "execution_count": 17,
   "metadata": {},
   "outputs": [
    {
     "name": "stdout",
     "output_type": "stream",
     "text": [
      "'add'\n",
      "30\n",
      "Help on function add in module __main__:\n",
      "\n",
      "add(x, y)\n",
      "    This is awesome 2\n",
      "\n"
     ]
    }
   ],
   "source": [
    "# Decorator\n",
    "\n",
    "import functools\n",
    "\n",
    "def debug(func):\n",
    "    @functools.wraps(func)\n",
    "    def wrapper(*args, **kwargs):\n",
    "        print(f\"{func.__qualname__!r}\")\n",
    "        func(*args, **kwargs)\n",
    "    return wrapper\n",
    "\n",
    "@debug\n",
    "def add(x, y):\n",
    "    \"\"\"This is awesome 2\"\"\"\n",
    "    print(x+y)\n",
    "    \n",
    "add(10, 20)\n",
    "help(add)"
   ]
  },
  {
   "cell_type": "code",
   "execution_count": 23,
   "metadata": {
    "scrolled": true
   },
   "outputs": [
    {
     "name": "stdout",
     "output_type": "stream",
     "text": [
      "Inside Debug\n",
      "Before Exiting Wrapper\n",
      "Inside Wrapper --> Foo.bar\n",
      "Inside Bar\n",
      "this is the output --> 30\n"
     ]
    }
   ],
   "source": [
    "# we can use logging for decorator\n",
    "from functools import wraps\n",
    "import logging\n",
    "\n",
    "def debug(func):\n",
    "    log = logging.getLogger(func.__module__)\n",
    "    msg = func.__qualname__\n",
    "    print(\"Inside Debug\")\n",
    "    @wraps(func)\n",
    "    def wrapper(*args, **kwargs):\n",
    "        log.debug(msg)\n",
    "        print(f\"Inside Wrapper --> {msg}\")\n",
    "        return func(*args, **kwargs)\n",
    "    print(\"Before Exiting Wrapper\")\n",
    "    return wrapper\n",
    "\n",
    "class Foo:\n",
    "    @debug\n",
    "    def bar(self, x, y):\n",
    "        print(\"Inside Bar\")\n",
    "        print(f\"this is the output --> {x + y}\")\n",
    "\n",
    "f = Foo()\n",
    "f.bar(10, 20)"
   ]
  },
  {
   "cell_type": "code",
   "execution_count": 26,
   "metadata": {},
   "outputs": [
    {
     "data": {
      "text/plain": [
       "1584426732.671045"
      ]
     },
     "execution_count": 26,
     "metadata": {},
     "output_type": "execute_result"
    }
   ],
   "source": [
    "import time\n",
    "time.time()"
   ]
  }
 ],
 "metadata": {
  "kernelspec": {
   "display_name": "Python 3",
   "language": "python",
   "name": "python3"
  },
  "language_info": {
   "codemirror_mode": {
    "name": "ipython",
    "version": 3
   },
   "file_extension": ".py",
   "mimetype": "text/x-python",
   "name": "python",
   "nbconvert_exporter": "python",
   "pygments_lexer": "ipython3",
   "version": "3.8.0"
  }
 },
 "nbformat": 4,
 "nbformat_minor": 4
}
