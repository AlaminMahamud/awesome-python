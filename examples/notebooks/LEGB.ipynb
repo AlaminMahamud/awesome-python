{
 "cells": [
  {
   "cell_type": "code",
   "execution_count": 4,
   "metadata": {},
   "outputs": [
    {
     "name": "stdout",
     "output_type": "stream",
     "text": [
      "10\n",
      "10\n",
      "11\n"
     ]
    }
   ],
   "source": [
    "my_var = 10\n",
    "\n",
    "def hello():\n",
    "    global my_var\n",
    "    print(my_var)\n",
    "    my_var = 11\n",
    "\n",
    "print(my_var)\n",
    "hello()\n",
    "print(my_var)\n",
    "\n"
   ]
  },
  {
   "cell_type": "code",
   "execution_count": 29,
   "metadata": {},
   "outputs": [
    {
     "name": "stdout",
     "output_type": "stream",
     "text": [
      "GLOB\n",
      "SHIT\n",
      "HAPPENS\n",
      "SHIT\n",
      "HAPPENS\n"
     ]
    }
   ],
   "source": [
    "hello_local = \"GLOB\"\n",
    "\n",
    "def hello():\n",
    "    hello_local = \"SHIT\"\n",
    "    def world():\n",
    "        global hello_local\n",
    "        hello_local = \"HAPPENS\"\n",
    "        print(hello_local)\n",
    "        \n",
    "    print(hello_local)\n",
    "    world()\n",
    "    print(hello_local)\n",
    "\n",
    "print(hello_local)\n",
    "hello()\n",
    "print(hello_local)"
   ]
  }
 ],
 "metadata": {
  "kernelspec": {
   "display_name": "Python 3",
   "language": "python",
   "name": "python3"
  },
  "language_info": {
   "codemirror_mode": {
    "name": "ipython",
    "version": 3
   },
   "file_extension": ".py",
   "mimetype": "text/x-python",
   "name": "python",
   "nbconvert_exporter": "python",
   "pygments_lexer": "ipython3",
   "version": "3.6.5"
  }
 },
 "nbformat": 4,
 "nbformat_minor": 2
}
