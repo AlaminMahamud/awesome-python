{
 "cells": [
  {
   "cell_type": "code",
   "execution_count": 6,
   "metadata": {},
   "outputs": [],
   "source": [
    "import string"
   ]
  },
  {
   "cell_type": "code",
   "execution_count": 2,
   "metadata": {},
   "outputs": [],
   "source": [
    "s = 'The quick brown fox jumped over te lazy dog.'"
   ]
  },
  {
   "cell_type": "code",
   "execution_count": 4,
   "metadata": {},
   "outputs": [
    {
     "name": "stdout",
     "output_type": "stream",
     "text": [
      "The quick brown fox jumped over te lazy dog.\n"
     ]
    }
   ],
   "source": [
    "print(s)"
   ]
  },
  {
   "cell_type": "code",
   "execution_count": 9,
   "metadata": {},
   "outputs": [
    {
     "name": "stdout",
     "output_type": "stream",
     "text": [
      "The Quick Brown Fox Jumped Over Te Lazy Dog.\n"
     ]
    }
   ],
   "source": [
    "print(string.capwords(s))"
   ]
  },
  {
   "cell_type": "code",
   "execution_count": 14,
   "metadata": {},
   "outputs": [
    {
     "ename": "AttributeError",
     "evalue": "module 'string' has no attribute 'maketrans'",
     "output_type": "error",
     "traceback": [
      "\u001b[0;31m---------------------------------------------------------------------------\u001b[0m",
      "\u001b[0;31mAttributeError\u001b[0m                            Traceback (most recent call last)",
      "\u001b[0;32m<ipython-input-14-833ca6970870>\u001b[0m in \u001b[0;36m<module>\u001b[0;34m()\u001b[0m\n\u001b[1;32m      1\u001b[0m \u001b[0;32mimport\u001b[0m \u001b[0mstring\u001b[0m\u001b[0;34m\u001b[0m\u001b[0m\n\u001b[0;32m----> 2\u001b[0;31m \u001b[0mleet\u001b[0m \u001b[0;34m=\u001b[0m \u001b[0mstring\u001b[0m\u001b[0;34m.\u001b[0m\u001b[0mmaketrans\u001b[0m\u001b[0;34m(\u001b[0m\u001b[0;34mb'abegiloprstz'\u001b[0m\u001b[0;34m,\u001b[0m \u001b[0;34mb'463611092572'\u001b[0m\u001b[0;34m)\u001b[0m\u001b[0;34m\u001b[0m\u001b[0m\n\u001b[0m\u001b[1;32m      3\u001b[0m \u001b[0ms\u001b[0m \u001b[0;34m=\u001b[0m \u001b[0;34mb\"The quick brown fox jumps over the lazy dog.\"\u001b[0m\u001b[0;34m\u001b[0m\u001b[0m\n\u001b[1;32m      4\u001b[0m \u001b[0mprint\u001b[0m\u001b[0;34m(\u001b[0m\u001b[0ms\u001b[0m\u001b[0;34m.\u001b[0m\u001b[0mtranslate\u001b[0m\u001b[0;34m(\u001b[0m\u001b[0mleet\u001b[0m\u001b[0;34m)\u001b[0m\u001b[0;34m)\u001b[0m\u001b[0;34m\u001b[0m\u001b[0m\n",
      "\u001b[0;31mAttributeError\u001b[0m: module 'string' has no attribute 'maketrans'"
     ]
    }
   ],
   "source": [
    "import string\n",
    "leet = string.maketrans(b'abegiloprstz', b'463611092572')\n",
    "s = b\"The quick brown fox jumps over the lazy dog.\"\n",
    "print(s.translate(leet))"
   ]
  },
  {
   "cell_type": "code",
   "execution_count": 22,
   "metadata": {},
   "outputs": [
    {
     "name": "stdout",
     "output_type": "stream",
     "text": [
      "th3s 3s str3ng 2x1mpl2....w4w!!!\n"
     ]
    }
   ],
   "source": [
    "# Using 8 bit Bytes\n",
    "intab = 'aeiou'\n",
    "outtab = '12345'\n",
    "\n",
    "s = 'this is string example....wow!!!'\n",
    "\n",
    "print(\n",
    "    s.translate(\n",
    "        {ord(x): y for (x, y) in zip(intab, outtab)}\n",
    "    )\n",
    ")\n"
   ]
  },
  {
   "cell_type": "code",
   "execution_count": 23,
   "metadata": {},
   "outputs": [
    {
     "data": {
      "text/plain": [
       "type"
      ]
     },
     "execution_count": 23,
     "metadata": {},
     "output_type": "execute_result"
    }
   ],
   "source": [
    "type(str)"
   ]
  },
  {
   "cell_type": "code",
   "execution_count": 24,
   "metadata": {},
   "outputs": [
    {
     "name": "stdout",
     "output_type": "stream",
     "text": [
      "Sw1p v4w2ls f4r n5mb2rs.\n"
     ]
    }
   ],
   "source": [
    "print(\"Swap vowels for numbers.\"\n",
    "          .translate(str.maketrans('aeiou', '12345'))\n",
    "     )"
   ]
  },
  {
   "cell_type": "code",
   "execution_count": 29,
   "metadata": {},
   "outputs": [
    {
     "name": "stdout",
     "output_type": "stream",
     "text": [
      "Al1m3n\n"
     ]
    }
   ],
   "source": [
    "s = \"Alamin\".translate(str.maketrans('aeiou', '12345'))\n",
    "print(s)"
   ]
  },
  {
   "cell_type": "code",
   "execution_count": 32,
   "metadata": {},
   "outputs": [
    {
     "name": "stdout",
     "output_type": "stream",
     "text": [
      "TEMPLATE: \n",
      "Variable         : foo\n",
      "Escape           : $\n",
      "Variable in text : fooiable\n",
      "\n"
     ]
    }
   ],
   "source": [
    "import string\n",
    "\n",
    "values = {\n",
    "    'var': 'foo'\n",
    "}\n",
    "\n",
    "t = string.Template(\"\"\"\n",
    "Variable         : $var\n",
    "Escape           : $$\n",
    "Variable in text : ${var}iable\n",
    "\"\"\")\n",
    "\n",
    "print('TEMPLATE:', t.substitute(values))"
   ]
  },
  {
   "cell_type": "code",
   "execution_count": 38,
   "metadata": {},
   "outputs": [
    {
     "name": "stdout",
     "output_type": "stream",
     "text": [
      "ERROR: 'missing'\n",
      "safe_substitute: foo is here but $missing is not provided\n"
     ]
    }
   ],
   "source": [
    "import string\n",
    "values = { 'var': 'foo' }\n",
    "t = string.Template(\"$var is here but $missing is not provided\")\n",
    "\n",
    "try:\n",
    "    print('substitute: ', t.substitute(values))\n",
    "except KeyError as err:\n",
    "    print ('ERROR:', str(err))\n",
    "\n",
    "print('safe_substitute:', t.safe_substitute(values))"
   ]
  },
  {
   "cell_type": "markdown",
   "metadata": {},
   "source": [
    "### Advanced Templates\n"
   ]
  },
  {
   "cell_type": "code",
   "execution_count": 1,
   "metadata": {},
   "outputs": [
    {
     "name": "stdout",
     "output_type": "stream",
     "text": [
      "Modified ID Pattern:\n",
      "\n",
      "    Delimeter: %%\n",
      "    Replaced: %with_underscore\n",
      "    Ignored: %notunderscored\n",
      "\n"
     ]
    }
   ],
   "source": [
    "import string\n",
    "\n",
    "template_text = '''\n",
    "    Delimeter: %%\n",
    "    Replaced: %with_underscore\n",
    "    Ignored: %notunderscored\n",
    "'''\n",
    "\n",
    "d = {\n",
    "    'with_underscore': 'replaced',\n",
    "    'notunderscored': 'not replaced'    \n",
    "}\n",
    "\n",
    "class MyTemplate(string.Template):\n",
    "    delimeter = '%'\n",
    "    idpattern = '[a-z]+_[a-z]+'\n",
    "    \n",
    "t = MyTemplate(template_text)\n",
    "print('Modified ID Pattern:')\n",
    "print(t.safe_substitute(d))"
   ]
  }
 ],
 "metadata": {
  "kernelspec": {
   "display_name": "Python 3",
   "language": "python",
   "name": "python3"
  },
  "language_info": {
   "codemirror_mode": {
    "name": "ipython",
    "version": 3
   },
   "file_extension": ".py",
   "mimetype": "text/x-python",
   "name": "python",
   "nbconvert_exporter": "python",
   "pygments_lexer": "ipython3",
   "version": "3.6.5"
  }
 },
 "nbformat": 4,
 "nbformat_minor": 1
}
