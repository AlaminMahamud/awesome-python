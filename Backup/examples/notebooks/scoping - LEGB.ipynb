{
 "cells": [
  {
   "cell_type": "code",
   "execution_count": 2,
   "metadata": {},
   "outputs": [],
   "source": [
    "import numpy"
   ]
  },
  {
   "cell_type": "code",
   "execution_count": 3,
   "metadata": {},
   "outputs": [],
   "source": [
    "import math"
   ]
  },
  {
   "cell_type": "code",
   "execution_count": 4,
   "metadata": {},
   "outputs": [],
   "source": [
    "import scipy"
   ]
  },
  {
   "cell_type": "code",
   "execution_count": 5,
   "metadata": {},
   "outputs": [
    {
     "name": "stdout",
     "output_type": "stream",
     "text": [
      "3.141592653589793 math\n"
     ]
    }
   ],
   "source": [
    "print(math.pi, 'math')"
   ]
  },
  {
   "cell_type": "code",
   "execution_count": 6,
   "metadata": {},
   "outputs": [
    {
     "name": "stdout",
     "output_type": "stream",
     "text": [
      "3.141592653589793 numpy\n"
     ]
    }
   ],
   "source": [
    "print(numpy.pi, 'numpy')"
   ]
  },
  {
   "cell_type": "code",
   "execution_count": 7,
   "metadata": {},
   "outputs": [
    {
     "name": "stdout",
     "output_type": "stream",
     "text": [
      "3.141592653589793 scipy\n"
     ]
    }
   ],
   "source": [
    "print(scipy.pi, 'scipy')"
   ]
  },
  {
   "cell_type": "code",
   "execution_count": 8,
   "metadata": {},
   "outputs": [],
   "source": [
    "a_var = 'global variable'"
   ]
  },
  {
   "cell_type": "code",
   "execution_count": 9,
   "metadata": {},
   "outputs": [],
   "source": [
    "def a_func():\n",
    "    print(a_var, '[ a_var inside a_func() ]')"
   ]
  },
  {
   "cell_type": "code",
   "execution_count": 10,
   "metadata": {},
   "outputs": [
    {
     "name": "stdout",
     "output_type": "stream",
     "text": [
      "global variable [ a_var inside a_func() ]\n"
     ]
    }
   ],
   "source": [
    "a_func()"
   ]
  },
  {
   "cell_type": "code",
   "execution_count": 11,
   "metadata": {},
   "outputs": [
    {
     "name": "stdout",
     "output_type": "stream",
     "text": [
      "global variable [a_var outside a_func()]\n"
     ]
    }
   ],
   "source": [
    "print(a_var, '[a_var outside a_func()]')"
   ]
  },
  {
   "cell_type": "code",
   "execution_count": 12,
   "metadata": {},
   "outputs": [
    {
     "name": "stdout",
     "output_type": "stream",
     "text": [
      "local value [ a_var inside a_func()]\n",
      "global value [ a_var outside a_func() ]\n"
     ]
    }
   ],
   "source": [
    "a_var_var = 'global value'\n",
    "\n",
    "def a_func_func():\n",
    "    a_var_var = 'local value'\n",
    "    print(a_var_var, '[ a_var inside a_func()]')\n",
    "\n",
    "a_func_func()\n",
    "print(a_var_var, '[ a_var outside a_func() ]')"
   ]
  },
  {
   "cell_type": "code",
   "execution_count": 14,
   "metadata": {},
   "outputs": [
    {
     "name": "stdout",
     "output_type": "stream",
     "text": [
      "local value\n"
     ]
    }
   ],
   "source": [
    "a_var = 'global value'\n",
    "def outer():\n",
    "    a_var = 'enclosed_value'\n",
    "    \n",
    "    def inner():\n",
    "        a_var = 'local value'\n",
    "        print(a_var)\n",
    "    inner()\n",
    "outer()"
   ]
  },
  {
   "cell_type": "code",
   "execution_count": 17,
   "metadata": {},
   "outputs": [
    {
     "name": "stdout",
     "output_type": "stream",
     "text": [
      "outer before: local value\n",
      "in inner(): inner value\n"
     ]
    }
   ],
   "source": [
    "a_var = 'global value'\n",
    "\n",
    "def outer():\n",
    "    a_var = 'local value'\n",
    "    print('outer before:', a_var)\n",
    "    \n",
    "    def inner():\n",
    "        nonlocal a_var\n",
    "        a_var = 'inner value'\n",
    "        print('in inner():', a_var)\n",
    "    inner()\n",
    "    \n",
    "outer()"
   ]
  },
  {
   "cell_type": "code",
   "execution_count": 19,
   "metadata": {},
   "outputs": [
    {
     "name": "stdout",
     "output_type": "stream",
     "text": [
      "a is 2local\n",
      "called my len() function: 6\n",
      "a is 1global 3variable\n",
      "17\n"
     ]
    }
   ],
   "source": [
    "a = '1global'\n",
    "def outer():\n",
    "    def len(in_var):\n",
    "        print('called my len() function: ', end=\"\")\n",
    "        l = 0\n",
    "        for i in in_var:\n",
    "            l += 1\n",
    "        return l\n",
    "    a = '2local'\n",
    "    \n",
    "    def inner():\n",
    "        nonlocal len\n",
    "        global a\n",
    "        a += ' 3variable'\n",
    "    inner()\n",
    "    print('a is', a)\n",
    "    print(len(a))\n",
    "    \n",
    "outer()\n",
    "print('a is', a)\n",
    "print(len(a))\n"
   ]
  }
 ],
 "metadata": {
  "kernelspec": {
   "display_name": "Python 3",
   "language": "python",
   "name": "python3"
  },
  "language_info": {
   "codemirror_mode": {
    "name": "ipython",
    "version": 3
   },
   "file_extension": ".py",
   "mimetype": "text/x-python",
   "name": "python",
   "nbconvert_exporter": "python",
   "pygments_lexer": "ipython3",
   "version": "3.6.5"
  }
 },
 "nbformat": 4,
 "nbformat_minor": 2
}
