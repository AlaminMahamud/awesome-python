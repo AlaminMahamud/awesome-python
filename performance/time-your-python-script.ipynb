{
 "cells": [
  {
   "cell_type": "code",
   "execution_count": 4,
   "metadata": {},
   "outputs": [
    {
     "name": "stdout",
     "output_type": "stream",
     "text": [
      "Hello\n",
      "0.0013644695281982422 seconds\n"
     ]
    }
   ],
   "source": [
    "# Time your Python Script\n",
    "import time\n",
    "\n",
    "start = time.time()\n",
    "print(\"Hello\")\n",
    "\n",
    "end = time.time()\n",
    "print(end - start, \"seconds\")"
   ]
  },
  {
   "cell_type": "code",
   "execution_count": 10,
   "metadata": {},
   "outputs": [
    {
     "ename": "SyntaxError",
     "evalue": "invalid syntax (<ipython-input-10-aed1c15dc31d>, line 10)",
     "output_type": "error",
     "traceback": [
      "\u001b[0;36m  File \u001b[0;32m\"<ipython-input-10-aed1c15dc31d>\"\u001b[0;36m, line \u001b[0;32m10\u001b[0m\n\u001b[0;31m    t.repeat(<number to repeat>, <number of times to call the timed statements>)\u001b[0m\n\u001b[0m             ^\u001b[0m\n\u001b[0;31mSyntaxError\u001b[0m\u001b[0;31m:\u001b[0m invalid syntax\n"
     ]
    }
   ],
   "source": [
    "# introducing timeit\n",
    "import timeit\n",
    "t = timeit.Timer(\"<the-statement-to-timeit>\", \n",
    "                 \"<importing modules to help set up the necessary env>\")\n",
    "\n",
    "# calls my timed statement 1 million times.\n",
    "# and returns number of seconds it took to do it.\n",
    "t.timeit()\n",
    "# returns a list of every iteration\n",
    "t.repeat(<number to repeat>, <number of times to call the timed statements>)\n",
    "\n",
    "# example of repeat\n",
    "t.repeat(3, 1000000)\n",
    "\n",
    "# take the min of those 3 iteration\n",
    "min(t.repeat(3, 1000000))"
   ]
  },
  {
   "cell_type": "code",
   "execution_count": 42,
   "metadata": {},
   "outputs": [
    {
     "name": "stdout",
     "output_type": "stream",
     "text": [
      "Hello\n",
      "Woo------------ W000 4.418337304001398\n",
      "Pilgrim-------- P426 5.009230576999471\n",
      "Flingjingwaller F452 6.995747596000001\n"
     ]
    }
   ],
   "source": [
    "import string, re\n",
    "\n",
    "charToSoundex = {\"A\": \"9\",\n",
    "                 \"B\": \"1\",\n",
    "                 \"C\": \"2\",\n",
    "                 \"D\": \"3\",\n",
    "                 \"E\": \"9\",\n",
    "                 \"F\": \"1\",\n",
    "                 \"G\": \"2\",\n",
    "                 \"H\": \"9\",\n",
    "                 \"I\": \"9\",\n",
    "                 \"J\": \"2\",\n",
    "                 \"K\": \"2\",\n",
    "                 \"L\": \"4\",\n",
    "                 \"M\": \"5\",\n",
    "                 \"N\": \"5\",\n",
    "                 \"O\": \"9\",\n",
    "                 \"P\": \"1\",\n",
    "                 \"Q\": \"2\",\n",
    "                 \"R\": \"6\",\n",
    "                 \"S\": \"2\",\n",
    "                 \"T\": \"3\",\n",
    "                 \"U\": \"9\",\n",
    "                 \"V\": \"1\",\n",
    "                 \"W\": \"9\",\n",
    "                 \"X\": \"2\",\n",
    "                 \"Y\": \"9\",\n",
    "                 \"Z\": \"2\"}\n",
    "\n",
    "def soundex(source):\n",
    "    \"convert string to soundex equivalent\"\n",
    "    \n",
    "    # Soundex requirements:\n",
    "    # source string must be at least 1 character\n",
    "    # and must consist entirely of letters\n",
    "    \n",
    "    allchars = \"\".join([string.ascii_uppercase,\n",
    "                string.ascii_lowercase])\n",
    "    if not re.search(f'^[{allchars}]+$', source):\n",
    "        return \"0000\"\n",
    "    \n",
    "    \n",
    "    # Soundex algorithm:\n",
    "    # 1. make first character uppercase\n",
    "    source = source.upper()\n",
    "    \n",
    "    # 2. translate all other characters to soundex digits\n",
    "    digits = source[0]\n",
    "    \n",
    "    for s in source[1:]:\n",
    "        digits += charToSoundex[s]\n",
    "        \n",
    "    # 3. remove consecutive duplicates\n",
    "    digits2 = digits[0]\n",
    "    for d in digits[1:]:\n",
    "        if digits2[-1] != d:\n",
    "            digits2 += d\n",
    "            \n",
    "    # 4. remove all \"9\"s\n",
    "    digits3 = re.sub('9', '', digits2)\n",
    "    \n",
    "    # 5. pad end with \"0\"s to 4 characters\n",
    "    while len(digits3) < 4:\n",
    "        digits3 += \"0\"\n",
    "    \n",
    "    # 6. return first 4 characters\n",
    "    return digits3[:4]\n",
    "\n",
    "#if __name__ == \"__main__\":\n",
    "print('Hello')\n",
    "from timeit import Timer\n",
    "names = ('Woo', 'Pilgrim', 'Flingjingwaller')\n",
    "\n",
    "for name in names:\n",
    "    statement = f\"soundex('{name}')\"\n",
    "    t = Timer(statement, \"from __main__ import soundex\")\n",
    "    print(name.ljust(15, '-'), soundex(name), min(t.repeat()))"
   ]
  },
  {
   "cell_type": "code",
   "execution_count": 29,
   "metadata": {},
   "outputs": [
    {
     "name": "stdout",
     "output_type": "stream",
     "text": [
      "Help on module string:\n",
      "\n",
      "NAME\n",
      "    string - A collection of string constants.\n",
      "\n",
      "MODULE REFERENCE\n",
      "    https://docs.python.org/3.6/library/string\n",
      "    \n",
      "    The following documentation is automatically generated from the Python\n",
      "    source files.  It may be incomplete, incorrect or include features that\n",
      "    are considered implementation detail and may vary between Python\n",
      "    implementations.  When in doubt, consult the module reference at the\n",
      "    location listed above.\n",
      "\n",
      "DESCRIPTION\n",
      "    Public module variables:\n",
      "    \n",
      "    whitespace -- a string containing all ASCII whitespace\n",
      "    ascii_lowercase -- a string containing all ASCII lowercase letters\n",
      "    ascii_uppercase -- a string containing all ASCII uppercase letters\n",
      "    ascii_letters -- a string containing all ASCII letters\n",
      "    digits -- a string containing all ASCII decimal digits\n",
      "    hexdigits -- a string containing all ASCII hexadecimal digits\n",
      "    octdigits -- a string containing all ASCII octal digits\n",
      "    punctuation -- a string containing all ASCII punctuation characters\n",
      "    printable -- a string containing all ASCII characters considered printable\n",
      "\n",
      "CLASSES\n",
      "    builtins.object\n",
      "        Formatter\n",
      "        Template\n",
      "    \n",
      "    class Formatter(builtins.object)\n",
      "     |  Methods defined here:\n",
      "     |  \n",
      "     |  check_unused_args(self, used_args, args, kwargs)\n",
      "     |  \n",
      "     |  convert_field(self, value, conversion)\n",
      "     |  \n",
      "     |  format(*args, **kwargs)\n",
      "     |  \n",
      "     |  format_field(self, value, format_spec)\n",
      "     |  \n",
      "     |  get_field(self, field_name, args, kwargs)\n",
      "     |      # given a field_name, find the object it references.\n",
      "     |      #  field_name:   the field being looked up, e.g. \"0.name\"\n",
      "     |      #                 or \"lookup[3]\"\n",
      "     |      #  used_args:    a set of which args have been used\n",
      "     |      #  args, kwargs: as passed in to vformat\n",
      "     |  \n",
      "     |  get_value(self, key, args, kwargs)\n",
      "     |  \n",
      "     |  parse(self, format_string)\n",
      "     |      # returns an iterable that contains tuples of the form:\n",
      "     |      # (literal_text, field_name, format_spec, conversion)\n",
      "     |      # literal_text can be zero length\n",
      "     |      # field_name can be None, in which case there's no\n",
      "     |      #  object to format and output\n",
      "     |      # if field_name is not None, it is looked up, formatted\n",
      "     |      #  with format_spec and conversion and then used\n",
      "     |  \n",
      "     |  vformat(self, format_string, args, kwargs)\n",
      "     |  \n",
      "     |  ----------------------------------------------------------------------\n",
      "     |  Data descriptors defined here:\n",
      "     |  \n",
      "     |  __dict__\n",
      "     |      dictionary for instance variables (if defined)\n",
      "     |  \n",
      "     |  __weakref__\n",
      "     |      list of weak references to the object (if defined)\n",
      "    \n",
      "    class Template(builtins.object)\n",
      "     |  A string class for supporting $-substitutions.\n",
      "     |  \n",
      "     |  Methods defined here:\n",
      "     |  \n",
      "     |  __init__(self, template)\n",
      "     |      Initialize self.  See help(type(self)) for accurate signature.\n",
      "     |  \n",
      "     |  safe_substitute(*args, **kws)\n",
      "     |  \n",
      "     |  substitute(*args, **kws)\n",
      "     |  \n",
      "     |  ----------------------------------------------------------------------\n",
      "     |  Data descriptors defined here:\n",
      "     |  \n",
      "     |  __dict__\n",
      "     |      dictionary for instance variables (if defined)\n",
      "     |  \n",
      "     |  __weakref__\n",
      "     |      list of weak references to the object (if defined)\n",
      "     |  \n",
      "     |  ----------------------------------------------------------------------\n",
      "     |  Data and other attributes defined here:\n",
      "     |  \n",
      "     |  delimiter = '$'\n",
      "     |  \n",
      "     |  flags = <RegexFlag.IGNORECASE: 2>\n",
      "     |  \n",
      "     |  idpattern = '(?-i:[_a-zA-Z][_a-zA-Z0-9]*)'\n",
      "     |  \n",
      "     |  pattern = re.compile('\\n    \\\\$(?:\\n      (?P<escaped>\\\\$)...(?P<brace...\n",
      "\n",
      "FUNCTIONS\n",
      "    capwords(s, sep=None)\n",
      "        capwords(s [,sep]) -> string\n",
      "        \n",
      "        Split the argument into words using split, capitalize each\n",
      "        word using capitalize, and join the capitalized words using\n",
      "        join.  If the optional second argument sep is absent or None,\n",
      "        runs of whitespace characters are replaced by a single space\n",
      "        and leading and trailing whitespace are removed, otherwise\n",
      "        sep is used to split and join the words.\n",
      "\n",
      "DATA\n",
      "    __all__ = ['ascii_letters', 'ascii_lowercase', 'ascii_uppercase', 'cap...\n",
      "    ascii_letters = 'abcdefghijklmnopqrstuvwxyzABCDEFGHIJKLMNOPQRSTUVWXYZ'\n",
      "    ascii_lowercase = 'abcdefghijklmnopqrstuvwxyz'\n",
      "    ascii_uppercase = 'ABCDEFGHIJKLMNOPQRSTUVWXYZ'\n",
      "    digits = '0123456789'\n",
      "    hexdigits = '0123456789abcdefABCDEF'\n",
      "    octdigits = '01234567'\n",
      "    printable = '0123456789abcdefghijklmnopqrstuvwxyzABCDEFGHIJKLMNOPQRSTU...\n",
      "    punctuation = '!\"#$%&\\'()*+,-./:;<=>?@[\\\\]^_`{|}~'\n",
      "    whitespace = ' \\t\\n\\r\\x0b\\x0c'\n",
      "\n",
      "FILE\n",
      "    /home/alamin/anaconda3/lib/python3.6/string.py\n",
      "\n",
      "\n"
     ]
    }
   ],
   "source": [
    "import string\n",
    "help(string)"
   ]
  },
  {
   "cell_type": "code",
   "execution_count": 11,
   "metadata": {},
   "outputs": [
    {
     "data": {
      "text/plain": [
       "'ABCDEFGHIJKLMNOPQRSTUVWXYZ'"
      ]
     },
     "execution_count": 11,
     "metadata": {},
     "output_type": "execute_result"
    }
   ],
   "source": [
    "string.ascii_uppercase\n"
   ]
  },
  {
   "cell_type": "code",
   "execution_count": 13,
   "metadata": {},
   "outputs": [
    {
     "data": {
      "text/plain": [
       "'abcdefghijklmnopqrstuvwxyz'"
      ]
     },
     "execution_count": 13,
     "metadata": {},
     "output_type": "execute_result"
    }
   ],
   "source": [
    "string.ascii_lowercase"
   ]
  },
  {
   "cell_type": "code",
   "execution_count": 15,
   "metadata": {},
   "outputs": [
    {
     "data": {
      "text/plain": [
       "'0123456789'"
      ]
     },
     "execution_count": 15,
     "metadata": {},
     "output_type": "execute_result"
    }
   ],
   "source": [
    "string.digits"
   ]
  },
  {
   "cell_type": "code",
   "execution_count": 18,
   "metadata": {},
   "outputs": [
    {
     "data": {
      "text/plain": [
       "'!\"#$%&\\'()*+,-./:;<=>?@[\\\\]^_`{|}~'"
      ]
     },
     "execution_count": 18,
     "metadata": {},
     "output_type": "execute_result"
    }
   ],
   "source": [
    "string.punctuation\n"
   ]
  },
  {
   "cell_type": "code",
   "execution_count": 24,
   "metadata": {},
   "outputs": [
    {
     "ename": "AttributeError",
     "evalue": "module 'string' has no attribute 'uppercase'",
     "output_type": "error",
     "traceback": [
      "\u001b[0;31m---------------------------------------------------------------------------\u001b[0m",
      "\u001b[0;31mAttributeError\u001b[0m                            Traceback (most recent call last)",
      "\u001b[0;32m<ipython-input-24-6dd917834cc9>\u001b[0m in \u001b[0;36m<module>\u001b[0;34m()\u001b[0m\n\u001b[0;32m----> 1\u001b[0;31m \u001b[0mallChars\u001b[0m \u001b[0;34m=\u001b[0m \u001b[0mstring\u001b[0m\u001b[0;34m.\u001b[0m\u001b[0muppercase\u001b[0m\u001b[0;34m\u001b[0m\u001b[0m\n\u001b[0m",
      "\u001b[0;31mAttributeError\u001b[0m: module 'string' has no attribute 'uppercase'"
     ]
    }
   ],
   "source": [
    "allChars = string.uppercase"
   ]
  },
  {
   "cell_type": "code",
   "execution_count": 27,
   "metadata": {},
   "outputs": [
    {
     "name": "stdout",
     "output_type": "stream",
     "text": [
      "ALAMIN\n"
     ]
    }
   ],
   "source": [
    "s = 'alamin'.upper()\n",
    "print(s)"
   ]
  },
  {
   "cell_type": "code",
   "execution_count": 30,
   "metadata": {},
   "outputs": [
    {
     "ename": "NameError",
     "evalue": "name 'digits2' is not defined",
     "output_type": "error",
     "traceback": [
      "\u001b[0;31m---------------------------------------------------------------------------\u001b[0m",
      "\u001b[0;31mNameError\u001b[0m                                 Traceback (most recent call last)",
      "\u001b[0;32m<ipython-input-30-a560898d7b7f>\u001b[0m in \u001b[0;36m<module>\u001b[0;34m()\u001b[0m\n\u001b[1;32m      1\u001b[0m \u001b[0ms\u001b[0m \u001b[0;34m=\u001b[0m \u001b[0;34m'012321'\u001b[0m\u001b[0;34m\u001b[0m\u001b[0m\n\u001b[1;32m      2\u001b[0m \u001b[0;32mfor\u001b[0m \u001b[0md\u001b[0m \u001b[0;32min\u001b[0m \u001b[0ms\u001b[0m\u001b[0;34m[\u001b[0m\u001b[0;36m1\u001b[0m\u001b[0;34m:\u001b[0m\u001b[0;34m]\u001b[0m\u001b[0;34m:\u001b[0m\u001b[0;34m\u001b[0m\u001b[0m\n\u001b[0;32m----> 3\u001b[0;31m     \u001b[0;32mif\u001b[0m \u001b[0mdigits2\u001b[0m\u001b[0;34m[\u001b[0m\u001b[0;34m-\u001b[0m\u001b[0;36m1\u001b[0m\u001b[0;34m]\u001b[0m \u001b[0;34m!=\u001b[0m \u001b[0md\u001b[0m\u001b[0;34m:\u001b[0m\u001b[0;34m\u001b[0m\u001b[0m\n\u001b[0m\u001b[1;32m      4\u001b[0m         \u001b[0mdigits2\u001b[0m \u001b[0;34m+=\u001b[0m \u001b[0md\u001b[0m\u001b[0;34m\u001b[0m\u001b[0m\n",
      "\u001b[0;31mNameError\u001b[0m: name 'digits2' is not defined"
     ]
    }
   ],
   "source": [
    "s = '012321'\n",
    "for d in s[1:]:\n",
    "    if digits2[-1] != d:\n",
    "        digits2 += d"
   ]
  },
  {
   "cell_type": "code",
   "execution_count": 32,
   "metadata": {},
   "outputs": [
    {
     "data": {
      "text/plain": [
       "'alamin00000000000000000000000000000000000000000000'"
      ]
     },
     "execution_count": 32,
     "metadata": {},
     "output_type": "execute_result"
    }
   ],
   "source": [
    "str = \"alamin\"\n",
    "str.ljust(50, '0')"
   ]
  },
  {
   "cell_type": "code",
   "execution_count": 46,
   "metadata": {},
   "outputs": [
    {
     "data": {
      "text/plain": [
       "'$$$$$$$$$$$$$$$$$$$$$$$$$$$$$$$$$$$$$$$$$$$$alamin'"
      ]
     },
     "execution_count": 46,
     "metadata": {},
     "output_type": "execute_result"
    }
   ],
   "source": [
    "str.rjust(50, '$')"
   ]
  },
  {
   "cell_type": "code",
   "execution_count": 48,
   "metadata": {},
   "outputs": [
    {
     "name": "stdout",
     "output_type": "stream",
     "text": [
      "Hello\n",
      "Woo------------ W000 3.1707650940006715\n",
      "Pilgrim-------- P426 4.0911663610004325\n",
      "Flingjingwaller F452 5.963548915000501\n"
     ]
    }
   ],
   "source": [
    "import string, re\n",
    "\n",
    "charToSoundex = {\"A\": \"9\",\n",
    "                 \"B\": \"1\",\n",
    "                 \"C\": \"2\",\n",
    "                 \"D\": \"3\",\n",
    "                 \"E\": \"9\",\n",
    "                 \"F\": \"1\",\n",
    "                 \"G\": \"2\",\n",
    "                 \"H\": \"9\",\n",
    "                 \"I\": \"9\",\n",
    "                 \"J\": \"2\",\n",
    "                 \"K\": \"2\",\n",
    "                 \"L\": \"4\",\n",
    "                 \"M\": \"5\",\n",
    "                 \"N\": \"5\",\n",
    "                 \"O\": \"9\",\n",
    "                 \"P\": \"1\",\n",
    "                 \"Q\": \"2\",\n",
    "                 \"R\": \"6\",\n",
    "                 \"S\": \"2\",\n",
    "                 \"T\": \"3\",\n",
    "                 \"U\": \"9\",\n",
    "                 \"V\": \"1\",\n",
    "                 \"W\": \"9\",\n",
    "                 \"X\": \"2\",\n",
    "                 \"Y\": \"9\",\n",
    "                 \"Z\": \"2\"}\n",
    "\n",
    "isOnlyChars = re.compile('^[a-zA-Z]+$').search\n",
    "\n",
    "def soundex(source):\n",
    "    \"convert string to soundex equivalent\"\n",
    "    \n",
    "    # Soundex requirements:\n",
    "    # source string must be at least 1 character\n",
    "    # and must consist entirely of letters\n",
    "    \n",
    "    allchars = \"\".join([string.ascii_uppercase,\n",
    "                string.ascii_lowercase])\n",
    "    if not isOnlyChars(source):\n",
    "        return \"0000\"\n",
    "    \n",
    "    \n",
    "    # Soundex algorithm:\n",
    "    # 1. make first character uppercase\n",
    "    source = source.upper()\n",
    "    \n",
    "    # 2. translate all other characters to soundex digits\n",
    "    digits = source[0]\n",
    "    \n",
    "    for s in source[1:]:\n",
    "        digits += charToSoundex[s]\n",
    "        \n",
    "    # 3. remove consecutive duplicates\n",
    "    digits2 = digits[0]\n",
    "    for d in digits[1:]:\n",
    "        if digits2[-1] != d:\n",
    "            digits2 += d\n",
    "            \n",
    "    # 4. remove all \"9\"s\n",
    "    digits3 = re.sub('9', '', digits2)\n",
    "    \n",
    "    # 5. pad end with \"0\"s to 4 characters\n",
    "    while len(digits3) < 4:\n",
    "        digits3 += \"0\"\n",
    "    \n",
    "    # 6. return first 4 characters\n",
    "    return digits3[:4]\n",
    "\n",
    "if __name__ == \"__main__\":\n",
    "    from timeit import Timer\n",
    "    names = ('Woo', 'Pilgrim', 'Flingjingwaller')\n",
    "\n",
    "    for name in names:\n",
    "        statement = f\"soundex('{name}')\"\n",
    "        t = Timer(statement, \"from __main__ import soundex\")\n",
    "        print(name.ljust(15, '-'), soundex(name), min(t.repeat()))\n"
   ]
  },
  {
   "cell_type": "code",
   "execution_count": 51,
   "metadata": {},
   "outputs": [
    {
     "name": "stdout",
     "output_type": "stream",
     "text": [
      "expensive_function took 7.690978288650513 seconds\n",
      "some result!\n"
     ]
    }
   ],
   "source": [
    "# Simple Timer Function\n",
    "\n",
    "def timefunc(f):\n",
    "   \n",
    "    def f_timer(*args, **kwargs):\n",
    "        import time\n",
    "        start = time.time()\n",
    "        result = f(*args, **kwargs)\n",
    "        end = time.time()\n",
    "        print(f.__name__, 'took', end - start, 'seconds')\n",
    "        \n",
    "        return result\n",
    "    \n",
    "    return f_timer\n",
    "\n",
    "def get_number():\n",
    "    for x in range(50000000):\n",
    "        yield x\n",
    "        \n",
    "@timefunc\n",
    "def expensive_function():\n",
    "    for x in get_number():\n",
    "        i = x ^ x ^ x\n",
    "    \n",
    "    return 'some result!'\n",
    "\n",
    "result = expensive_function()\n",
    "print(result)"
   ]
  },
  {
   "cell_type": "code",
   "execution_count": null,
   "metadata": {},
   "outputs": [],
   "source": []
  }
 ],
 "metadata": {
  "kernelspec": {
   "display_name": "Python 3",
   "language": "python",
   "name": "python3"
  },
  "language_info": {
   "codemirror_mode": {
    "name": "ipython",
    "version": 3
   },
   "file_extension": ".py",
   "mimetype": "text/x-python",
   "name": "python",
   "nbconvert_exporter": "python",
   "pygments_lexer": "ipython3",
   "version": "3.6.4"
  }
 },
 "nbformat": 4,
 "nbformat_minor": 2
}
